{
 "cells": [
  {
   "cell_type": "markdown",
   "metadata": {},
   "source": [
    "## ***Let's first understand what is going on in algorithm.***"
   ]
  },
  {
   "cell_type": "markdown",
   "metadata": {},
   "source": [
    "Naive Baye's is a classification algorithm that uses Baye's rule to classify. First we train the algorithm using training dataset and improved using cross-validation data and lastly, tested using test data. Let's dig deeper into mathematics of this algorithm:"
   ]
  },
  {
   "cell_type": "markdown",
   "metadata": {},
   "source": [
    "**Conditional probability :**\n",
    "\n",
    "$$ P(A|B) = \\frac {P(A\\cup B)}{P(B)} $$\n",
    "\n",
    "The above equation means probability of A, given B is equal to probability of occurence of both A and B divided by probability of B.\n",
    "\n",
    "Similarly we can write $P(B|A)$ as:\n",
    "\n",
    "$$ P(B|A) = \\frac {P(A\\cup B)}{P(A)} $$\n",
    "Let's just for a second visualize the above equation as:\n",
    "$$ P(B|A)\\ .P(A) = P(A\\cup B)$$\n",
    "Let's put this value of $P(A \\cup B)$ in initial equation:\n",
    "$$ $$\n",
    "\n",
    "$$ P(A|B) = \\frac {P(B|A)\\ .P(A)}{P(B)} $$\n",
    "\n",
    "$$ **Baye's Rule** $$\n",
    "\n",
    "**This equation above is Baye's rule.**\n",
    "\n",
    "1. **P(A|B)** is called Posterior probability \n",
    "2. **P(A)** is called Prior probability\n",
    "3. **P(B)** is called Normalizing probability\n",
    "4. **P(B|A)** is called Likelihood probability"
   ]
  },
  {
   "cell_type": "markdown",
   "metadata": {},
   "source": [
    "## Generally in NBC, these cases can appear:"
   ]
  },
  {
   "cell_type": "markdown",
   "metadata": {},
   "source": [
    "**1. B is UNIVARIATE**\n",
    "- B is Discrete\n",
    "    - Binomial\n",
    "    - Multinomial\n",
    "- B is continous\n",
    "\n",
    "**2. B is MULTI-VARIATE**\n",
    "- all features in B are continous\n",
    "- all features in B are discrete - binomial or multinomial  \n",
    "- some features in B are discrete and some are continous"
   ]
  },
  {
   "cell_type": "markdown",
   "metadata": {},
   "source": [
    "### **DATASET : Breast_Cancer_Dataset**"
   ]
  },
  {
   "cell_type": "markdown",
   "metadata": {},
   "source": [
    "# CASE 1 : B is UNIVARIATE CONTINOUS"
   ]
  },
  {
   "cell_type": "markdown",
   "metadata": {},
   "source": [
    "As you can see below, our dataset has 33 columns, but we are taking **B => `radius_mean`** and  **A => `diagnosis`** for this case."
   ]
  },
  {
   "cell_type": "markdown",
   "metadata": {},
   "source": [
    " \n",
    "  "
   ]
  },
  {
   "cell_type": "markdown",
   "metadata": {},
   "source": [
    "- $\\textbf{P(diagnosis='M' | radiusMean=}x_i\\textbf{) = }$\n",
    "$$ $$\n",
    "$$ \\ \\frac{P(radiusMean=x_i|diagnosis='M').P(diagnosis='M')}{P(radiusMean=x_i|diagnosis='M').P(diagnosis='M') + P(radiusMean=x_i|diagnosis='B').P(diagnosis='B') }$$"
   ]
  },
  {
   "cell_type": "markdown",
   "metadata": {},
   "source": [
    " "
   ]
  },
  {
   "cell_type": "markdown",
   "metadata": {},
   "source": [
    "- $\\textbf{P(diagnosis='B' | radiusMean=}x_i\\textbf{) = } $\n",
    "$$ $$\n",
    "$$ = \\ \\frac{P(radiusMean=x_i|diagnosis='B').P(diagnosis='B')}{P(radiusMean=x_i|diagnosis='M').P(diagnosis='M') + P(radiusMean=x_i|diagnosis='B').P(diagnosis='B') }$$"
   ]
  },
  {
   "cell_type": "markdown",
   "metadata": {},
   "source": [
    "Let's see how all the four probabilities in above 2 terms are going to be calculated for this case:\n",
    "\n",
    "1. $\\textbf{P(A|B)}$ is the posterior probability, that is getting a tumor 'B' or 'M' for a given radius_mean value.\n",
    "<br>\n",
    "\n",
    "2. $\\textbf{P(A)}$ is the Prior probability which means no matter what the radius_mean what is the probability of tumor being 'B' or 'M'. It is calculate by measuring the relative frequency of 'B' or 'M'(since relative frequency in sample is the best estimate of probability in population).\n",
    "<br>\n",
    "\n",
    "3. $\\textbf{P(B)}$, the Normalizing Probability is rewritten as denominator in above 2 terms because P(B) means probability of radius_mean = x(some value) which can be calculated adding the probability that radius_mean = x when tumor is 'B' and radius_mean = x when tumor is 'M'.<br>These value are calculated from data itself.\n",
    "<br>\n",
    "\n",
    "4. $\\textbf{P(B|A)}$, the Likelihood Probability is probability of given radius_mean = x when A = 'B' or 'M' depending upon what you take A."
   ]
  },
  {
   "cell_type": "code",
   "execution_count": null,
   "metadata": {},
   "outputs": [],
   "source": [
    "import numpy as np\n",
    "import pandas as pd\n",
    "import scipy.stats as s\n",
    "import matplotlib.pyplot as plt"
   ]
  },
  {
   "cell_type": "markdown",
   "metadata": {},
   "source": [
    "### Prepping DF"
   ]
  },
  {
   "cell_type": "code",
   "execution_count": null,
   "metadata": {},
   "outputs": [],
   "source": [
    "data = pd.read_csv('/home/pramila/Desktop/DataSets/TumorData.csv')"
   ]
  },
  {
   "cell_type": "code",
   "execution_count": null,
   "metadata": {},
   "outputs": [],
   "source": [
    "datacp = data.copy()"
   ]
  },
  {
   "cell_type": "code",
   "execution_count": null,
   "metadata": {},
   "outputs": [],
   "source": [
    "datacp.head()"
   ]
  },
  {
   "cell_type": "markdown",
   "metadata": {},
   "source": [
    "So, for our case first we will take diagnosis and radius_mean column"
   ]
  },
  {
   "cell_type": "code",
   "execution_count": null,
   "metadata": {},
   "outputs": [],
   "source": [
    "datacp1 = datacp.iloc[:,1:3]"
   ]
  },
  {
   "cell_type": "code",
   "execution_count": null,
   "metadata": {},
   "outputs": [],
   "source": [
    "datacp1.shape"
   ]
  },
  {
   "cell_type": "markdown",
   "metadata": {},
   "source": [
    "### Dividing the data for testing, cross-validation and training"
   ]
  },
  {
   "cell_type": "code",
   "execution_count": null,
   "metadata": {},
   "outputs": [],
   "source": [
    "datacp1_training = datacp1.iloc[:int(0.7*len(datacp1)), :]"
   ]
  },
  {
   "cell_type": "code",
   "execution_count": null,
   "metadata": {},
   "outputs": [],
   "source": [
    "remaining_data = datacp1.iloc[int(0.7*len(datacp1)):, :]"
   ]
  },
  {
   "cell_type": "code",
   "execution_count": null,
   "metadata": {},
   "outputs": [],
   "source": [
    "cross_validation_data = remaining_data.iloc[:int(0.5*len(remaining_data)), :]"
   ]
  },
  {
   "cell_type": "code",
   "execution_count": null,
   "metadata": {},
   "outputs": [],
   "source": [
    "testing_data = remaining_data.iloc[int(0.5*len(remaining_data)):, :]"
   ]
  },
  {
   "cell_type": "markdown",
   "metadata": {},
   "source": [
    "### Prior Probabilities for each class"
   ]
  },
  {
   "cell_type": "code",
   "execution_count": null,
   "metadata": {},
   "outputs": [],
   "source": [
    "# calculating prior probability, here we take A = 'B'\n",
    "datacp1_training.columns"
   ]
  },
  {
   "cell_type": "markdown",
   "metadata": {},
   "source": [
    "- `pr_pb_b` - prior probability of diagnosis = 'B'\n",
    "\n",
    "- `pr_pb_m` - prior probability of diagnosis = 'M'"
   ]
  },
  {
   "cell_type": "code",
   "execution_count": null,
   "metadata": {},
   "outputs": [],
   "source": [
    "pr_pb_b = len(datacp1_training.loc[datacp1_training['diagnosis']=='B', 'diagnosis']) / len(datacp1_training)\n",
    "pr_pb_m = len(datacp1_training.loc[datacp1_training['diagnosis']=='M', 'diagnosis']) / len(datacp1_training)"
   ]
  },
  {
   "cell_type": "code",
   "execution_count": null,
   "metadata": {},
   "outputs": [],
   "source": [
    "pr_pb_b"
   ]
  },
  {
   "cell_type": "code",
   "execution_count": null,
   "metadata": {},
   "outputs": [],
   "source": [
    "pr_pb_m"
   ]
  },
  {
   "cell_type": "markdown",
   "metadata": {},
   "source": [
    "### Parameters' values for Likelihood Probability for each class"
   ]
  },
  {
   "cell_type": "code",
   "execution_count": null,
   "metadata": {},
   "outputs": [],
   "source": [
    "all_benign_data = datacp1_training.loc[datacp1_training['diagnosis'] == 'B', 'radius_mean']\n",
    "all_malign_data = datacp1_training.loc[datacp1_training['diagnosis'] == 'M', 'radius_mean']\n",
    "\n",
    "mu_b = np.array(all_benign_data).mean()\n",
    "sigma_b = np.array(all_benign_data).std()\n",
    "\n",
    "mu_m = np.array(all_malign_data).mean()\n",
    "sigma_m = np.array(all_malign_data).std()"
   ]
  },
  {
   "cell_type": "code",
   "execution_count": null,
   "metadata": {},
   "outputs": [],
   "source": [
    "mu_b"
   ]
  },
  {
   "cell_type": "markdown",
   "metadata": {},
   "source": [
    "### Posterior Probability \n",
    "\n",
    "- `p_x_a_equal_B` - Likelihood probability of **x** for class 'B'\n",
    "\n",
    "- `p_x_a_equal_M` - Likelihood probability of **x** for class 'M'"
   ]
  },
  {
   "cell_type": "code",
   "execution_count": null,
   "metadata": {},
   "outputs": [],
   "source": [
    "def posterior_probability(x):\n",
    "    '''Takes each value of x and returns posterior probability of 'B' for the given x\n",
    "    '''\n",
    "    p_x_a_equal_B = s.norm.pdf(x, loc=mu_b, scale=sigma_b)\n",
    "    p_x_a_equal_M = s.norm.pdf(x, loc=mu_m, scale=sigma_m)\n",
    "    pp_B_given_x = ((p_x_a_equal_B)*(pr_pb_b)) / ((p_x_a_equal_B*pr_pb_b) + (p_x_a_equal_M*pr_pb_m))\n",
    "    return pp_B_given_x"
   ]
  },
  {
   "cell_type": "markdown",
   "metadata": {},
   "source": [
    "`posterior_p_c1_cvd` : Posterior probability for case 1, on Cross Validation Data"
   ]
  },
  {
   "cell_type": "code",
   "execution_count": null,
   "metadata": {},
   "outputs": [],
   "source": [
    "posterior_p_c1_cvd = posterior_probability(cross_validation_data.iloc[:, 1])"
   ]
  },
  {
   "cell_type": "markdown",
   "metadata": {},
   "source": [
    "### Comparing predicted values with original values"
   ]
  },
  {
   "cell_type": "markdown",
   "metadata": {},
   "source": [
    "#### - Cross Validation data"
   ]
  },
  {
   "cell_type": "code",
   "execution_count": null,
   "metadata": {},
   "outputs": [],
   "source": [
    "predicted_values_cvd= np.uint(posterior_p_c1_cvd > 0.5)"
   ]
  },
  {
   "cell_type": "code",
   "execution_count": null,
   "metadata": {
    "scrolled": true
   },
   "outputs": [],
   "source": [
    "cross_validation_data.replace(to_replace=['B', 'M'], value=[1,0], inplace=True)"
   ]
  },
  {
   "cell_type": "code",
   "execution_count": null,
   "metadata": {
    "scrolled": true
   },
   "outputs": [],
   "source": [
    "#cross_validation_data"
   ]
  },
  {
   "cell_type": "markdown",
   "metadata": {},
   "source": [
    "`accuracy_c1_cv` : Accuracy on Cross-Validation data for case 1"
   ]
  },
  {
   "cell_type": "code",
   "execution_count": null,
   "metadata": {},
   "outputs": [],
   "source": [
    "accuracy_c1_cv = np.count_nonzero(np.uint(predicted_values_cvd == cross_validation_data.iloc[:,0])) / len(cross_validation_data)"
   ]
  },
  {
   "cell_type": "markdown",
   "metadata": {},
   "source": [
    "#### - training data"
   ]
  },
  {
   "cell_type": "code",
   "execution_count": null,
   "metadata": {},
   "outputs": [],
   "source": [
    "datacp1_training.replace(to_replace=['B', 'M'], value=[1,0], inplace=True)"
   ]
  },
  {
   "cell_type": "code",
   "execution_count": null,
   "metadata": {},
   "outputs": [],
   "source": [
    "#datacp1_training"
   ]
  },
  {
   "cell_type": "markdown",
   "metadata": {},
   "source": [
    "`posterior_p_c1_td` : posterior probability for x in training data, for case 1"
   ]
  },
  {
   "cell_type": "code",
   "execution_count": null,
   "metadata": {},
   "outputs": [],
   "source": [
    "posterior_p_c1_td = posterior_probability(datacp1_training.iloc[:,1])"
   ]
  },
  {
   "cell_type": "code",
   "execution_count": null,
   "metadata": {},
   "outputs": [],
   "source": [
    "#posterior_p_c1_td"
   ]
  },
  {
   "cell_type": "code",
   "execution_count": null,
   "metadata": {},
   "outputs": [],
   "source": [
    "predicted_values_td = np.uint(posterior_p_c1_td > 0.5)"
   ]
  },
  {
   "cell_type": "code",
   "execution_count": null,
   "metadata": {},
   "outputs": [],
   "source": [
    "#predicted_values_td"
   ]
  },
  {
   "cell_type": "code",
   "execution_count": null,
   "metadata": {},
   "outputs": [],
   "source": [
    "accuracy_c1_td = np.count_nonzero(np.uint(predicted_values_td == datacp1_training.iloc[:,0]))/len(datacp1_training)"
   ]
  },
  {
   "cell_type": "markdown",
   "metadata": {},
   "source": [
    "# CASE 2 : B is MULTIVARIATE, all features are continous "
   ]
  },
  {
   "cell_type": "markdown",
   "metadata": {},
   "source": [
    "Now, we know prior probability is going to remain same for both 'B' and 'M'. We just have to calculate posterior probability using Normalizing and LIkelihood Probabilities. \n",
    "Since in our P(A/B), B is multi-variate continous random variable, we need to calculate covariance from training data and use that value of covariance to find joint probability, hence finally calculating Posterior Probability. Let's see how everything is going on mathematically:"
   ]
  },
  {
   "cell_type": "markdown",
   "metadata": {},
   "source": [
    "**B => `radius_mean` $\\cap$ `texture_mean`**\n",
    "\n",
    "**A => `diagnosis`**"
   ]
  },
  {
   "cell_type": "markdown",
   "metadata": {},
   "source": [
    "$$ P(A\\mid B) = \\frac{P(B\\mid A='B').P(A)}{P(B\\mid A).P(A='M') + P(B\\mid A).P(A='B')}$$"
   ]
  },
  {
   "cell_type": "markdown",
   "metadata": {},
   "source": [
    "**To calculate** $P(B \\mid A)$ :"
   ]
  },
  {
   "cell_type": "markdown",
   "metadata": {},
   "source": [
    "$$ P(radius\\_mean=x \\cap texture\\_mean=y) \\ = \\ \\frac{1}{ ({\\sqrt{2\\pi}})^n  {\\sqrt{|\\sum |}}} e^\\frac{-1}{2} \\bigl(\\begin{bmatrix} x - \\mu_x \\\\ y - \\mu_y \\end{bmatrix}\\bigr)^T (\\sum)^{-1} \\bigl(\\begin{bmatrix} x - \\mu_x \\\\ y - \\mu_y \\end{bmatrix}\\bigr) $$"
   ]
  },
  {
   "cell_type": "markdown",
   "metadata": {},
   "source": [
    "Here $\\sum$ represents covariance matrix."
   ]
  },
  {
   "cell_type": "markdown",
   "metadata": {},
   "source": [
    " "
   ]
  },
  {
   "cell_type": "markdown",
   "metadata": {},
   "source": [
    "### Prepping DF"
   ]
  },
  {
   "cell_type": "code",
   "execution_count": null,
   "metadata": {
    "scrolled": true
   },
   "outputs": [],
   "source": [
    "datacp.head()"
   ]
  },
  {
   "cell_type": "code",
   "execution_count": null,
   "metadata": {},
   "outputs": [],
   "source": [
    "datacp2 = datacp.iloc[:,:4]"
   ]
  },
  {
   "cell_type": "code",
   "execution_count": null,
   "metadata": {},
   "outputs": [],
   "source": [
    "datacp2.head()"
   ]
  },
  {
   "cell_type": "markdown",
   "metadata": {},
   "source": [
    "### Dividing the data for testing, cross-validation and training"
   ]
  },
  {
   "cell_type": "code",
   "execution_count": null,
   "metadata": {},
   "outputs": [],
   "source": [
    "datacp2_training = datacp2.iloc[:int(0.7*len(datacp2)),:]\n",
    "remaining_data_cp2 = datacp2.iloc[int(0.7*len(datacp2)):,:]\n",
    "datacp2_cv = remaining_data_cp2.iloc[: int(0.5*len(remaining_data_cp2)),:]\n",
    "datacp2_test = remaining_data_cp2.iloc[int(0.5*len(remaining_data_cp2)):, :]"
   ]
  },
  {
   "cell_type": "markdown",
   "metadata": {},
   "source": [
    "### Parameters that are Covariance Matrix and Mean, for each class"
   ]
  },
  {
   "cell_type": "code",
   "execution_count": null,
   "metadata": {},
   "outputs": [],
   "source": [
    "benign_data = datacp2_training.loc[datacp2_training['diagnosis'] == 'B', ['radius_mean', 'texture_mean']]\n",
    "malign_data = datacp2_training.loc[datacp2_training['diagnosis'] == 'M', ['radius_mean', 'texture_mean']]"
   ]
  },
  {
   "cell_type": "code",
   "execution_count": null,
   "metadata": {},
   "outputs": [],
   "source": [
    "benign_data"
   ]
  },
  {
   "cell_type": "markdown",
   "metadata": {},
   "source": [
    "#### Means for each class "
   ]
  },
  {
   "cell_type": "code",
   "execution_count": null,
   "metadata": {},
   "outputs": [],
   "source": [
    "mu_b = np.array(benign_data.iloc[:,:].mean())\n",
    "mu_m = np.array(malign_data.iloc[:,:].mean())"
   ]
  },
  {
   "cell_type": "code",
   "execution_count": null,
   "metadata": {},
   "outputs": [],
   "source": [
    "mu_b"
   ]
  },
  {
   "cell_type": "code",
   "execution_count": null,
   "metadata": {},
   "outputs": [],
   "source": [
    "mu_m"
   ]
  },
  {
   "cell_type": "markdown",
   "metadata": {},
   "source": [
    "#### Covariance Matrices for each class"
   ]
  },
  {
   "cell_type": "code",
   "execution_count": null,
   "metadata": {},
   "outputs": [],
   "source": [
    "cov_b = np.array(benign_data.iloc[:,:].cov())"
   ]
  },
  {
   "cell_type": "code",
   "execution_count": null,
   "metadata": {},
   "outputs": [],
   "source": [
    "cov_m = np.array(malign_data.iloc[:,:].cov())"
   ]
  },
  {
   "cell_type": "markdown",
   "metadata": {},
   "source": [
    "### Posterior Probability "
   ]
  },
  {
   "cell_type": "markdown",
   "metadata": {},
   "source": [
    "**`p_of_B_given_A_equal_b`**: Likelihood prob. of B = x, when given that diagnosis is benign\n",
    "\n",
    "**`p_of_B_given_A_equal_m`**: Likelihood prob. of B = x, when given that diagnosis is benign\n",
    "\n",
    "**`pp_of_A_equal_b_given_B`**: Posterior prob. of A = 'B' (benign) for given value of B = x"
   ]
  },
  {
   "cell_type": "code",
   "execution_count": null,
   "metadata": {},
   "outputs": [],
   "source": [
    "def posterior_probability_cp2(x):\n",
    "    p_of_B_given_A_equal_b = s.multivariate_normal.pdf(x, mean=mu_b, cov=cov_b)\n",
    "    p_of_B_given_A_equal_m = s.multivariate_normal.pdf(x, mean=mu_m, cov=cov_m)\n",
    "    pp_of_A_equal_b_given_B = (pr_pb_b * p_of_B_given_A_equal_b) / ((pr_pb_b * p_of_B_given_A_equal_b) + (pr_pb_m * p_of_B_given_A_equal_m))\n",
    "    return pp_of_A_equal_b_given_B\n",
    "    "
   ]
  },
  {
   "cell_type": "code",
   "execution_count": null,
   "metadata": {},
   "outputs": [],
   "source": [
    "datacp2_cv"
   ]
  },
  {
   "cell_type": "markdown",
   "metadata": {},
   "source": [
    "**`posterior_probabilities_cp2`** : posterior probabilities for case 2"
   ]
  },
  {
   "cell_type": "code",
   "execution_count": null,
   "metadata": {},
   "outputs": [],
   "source": [
    "posterior_probabilities_cp2 = posterior_probability_cp2(datacp2_cv.iloc[:,2:])"
   ]
  },
  {
   "cell_type": "code",
   "execution_count": null,
   "metadata": {},
   "outputs": [],
   "source": [
    "answer_from_algo = (np.uint(posterior_probabilities_cp2 > 0.5))  #predicted answers"
   ]
  },
  {
   "cell_type": "code",
   "execution_count": null,
   "metadata": {
    "scrolled": true
   },
   "outputs": [],
   "source": [
    "answer_from_algo"
   ]
  },
  {
   "cell_type": "code",
   "execution_count": null,
   "metadata": {},
   "outputs": [],
   "source": [
    "datacp2_cv.replace(to_replace=['B','M'], value=[1,0],inplace=True)"
   ]
  },
  {
   "cell_type": "code",
   "execution_count": null,
   "metadata": {},
   "outputs": [],
   "source": [
    "#datacp2_cv"
   ]
  },
  {
   "cell_type": "code",
   "execution_count": null,
   "metadata": {},
   "outputs": [],
   "source": [
    "actual_answers = datacp2_cv['diagnosis'] #actual answers"
   ]
  },
  {
   "cell_type": "markdown",
   "metadata": {},
   "source": [
    "### Comparing predicted VS actual"
   ]
  },
  {
   "cell_type": "code",
   "execution_count": null,
   "metadata": {},
   "outputs": [],
   "source": [
    "accuracy = np.count_nonzero(np.uint(actual_answers == answer_from_algo))/len(answer_from_algo)"
   ]
  },
  {
   "cell_type": "code",
   "execution_count": null,
   "metadata": {},
   "outputs": [],
   "source": [
    "accuracy"
   ]
  },
  {
   "cell_type": "markdown",
   "metadata": {},
   "source": [
    "## Case - Tumor Dataset + all features + all features continous"
   ]
  },
  {
   "cell_type": "markdown",
   "metadata": {},
   "source": [
    "$$ P(A|B) = \\frac {P(B|A)\\ .P(A)}{P(B)} $$"
   ]
  },
  {
   "cell_type": "markdown",
   "metadata": {},
   "source": [
    "Let's see how all the four probabilities are going to be calculated for this case:\n",
    "\n",
    "1. $\\textbf{P(A/B)}$ is the <b>Posterior Prob.</b> i.e. probability of getting a tumor 'B' or 'M' for a given feature vector value.<br>\n",
    "<br>\n",
    "\n",
    "2. $\\textbf{P(A)}$ is the <b>Prior probability</b> which means no matter what the feature vector what is the probability of tumor being 'B' or 'M'. It is calculated by measuring the relative frequency of 'B' or 'M'(since relative frequency in sample is the best estimate of probability in population).\n",
    "<br>\n",
    "\n",
    "3. $\\textbf{P(B)}$, the <b>Normalizing Probability</b> is rewritten as $P(B) = P(B/$tumor='B'$).P($tumor='B'$) + P(B/$tumor='M'$).P($tumor='M'$)$. Now since we are taking all the columns into account, B is equal to radius_mean=x $\\cap$ texture_mean=y $\\cap$ ...$\\cap$ last_feature=something.\n",
    "<br>\n",
    "\n",
    "4. $\\textbf{P(B/A)}$, the <b>Likelihood Probability</b> is probability of given radius_mean = x when A = 'B' or 'M' depending upon what you take A."
   ]
  },
  {
   "cell_type": "markdown",
   "metadata": {},
   "source": [
    "### => Reach : NBC-BreastCancerData.ipynb in Assignment-ML repo"
   ]
  },
  {
   "cell_type": "markdown",
   "metadata": {},
   "source": [
    "# Case - Multivariate + Multinomial data "
   ]
  },
  {
   "cell_type": "markdown",
   "metadata": {},
   "source": [
    "### => Reach : NBC-MushroomDataset.ipynb + NBC-MushroomDataset-allColumns.ipynb in Assignment-ML repo"
   ]
  }
 ],
 "metadata": {
  "kernelspec": {
   "display_name": "Python 3",
   "language": "python",
   "name": "python3"
  },
  "language_info": {
   "codemirror_mode": {
    "name": "ipython",
    "version": 3
   },
   "file_extension": ".py",
   "mimetype": "text/x-python",
   "name": "python",
   "nbconvert_exporter": "python",
   "pygments_lexer": "ipython3",
   "version": "3.7.3"
  }
 },
 "nbformat": 4,
 "nbformat_minor": 2
}

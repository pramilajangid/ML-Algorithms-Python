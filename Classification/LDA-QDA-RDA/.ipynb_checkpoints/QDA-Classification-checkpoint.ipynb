{
 "cells": [
  {
   "cell_type": "markdown",
   "metadata": {},
   "source": [
    "In case of **Quadratic Disriminant Analysis** \n",
    "\n",
    "QDA is implemented when $\\hat{\\Sigma}$s are not same for all the classes. \n",
    "\n",
    "**Our data:** Suppose we have 2 features in our data and N examples and 2 class labels.\n",
    "\n",
    "Then our **Discriminant Function** looks like:\n",
    "\n",
    "$$\\textbf{Y} = \\log_e \\frac{ P\\left(C=0 | x = \\begin{bmatrix} x_1 \\\\ x_2 \\end{bmatrix}\\right)}{P\\left(C=1 | x = \\begin{bmatrix} x_1 \\\\ x_2 \\end{bmatrix}\\right)} = \\hat{\\theta_0} + \\hat{\\theta_1} x_1 + \\hat{\\theta_2}x^2_1 + \\hat{\\theta_3} x_2 + \\hat{\\theta_4} x^2_2$$"
   ]
  }
 ],
 "metadata": {
  "kernelspec": {
   "display_name": "Python 3",
   "language": "python",
   "name": "python3"
  },
  "language_info": {
   "codemirror_mode": {
    "name": "ipython",
    "version": 3
   },
   "file_extension": ".py",
   "mimetype": "text/x-python",
   "name": "python",
   "nbconvert_exporter": "python",
   "pygments_lexer": "ipython3",
   "version": "3.7.3"
  }
 },
 "nbformat": 4,
 "nbformat_minor": 4
}

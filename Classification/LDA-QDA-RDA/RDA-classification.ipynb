{
 "cells": [
  {
   "cell_type": "markdown",
   "metadata": {},
   "source": [
    "### Regularised Discriminant Analysis\n",
    "\n",
    "**Where is it used?**\n",
    "\n",
    "- When in case of LDA, $\\Sigma_p$ comes out to be singular, OR\n",
    "\n",
    "\n",
    "- When in case of QDA, any or all of $\\Sigma$s for each class come out to be singular\n",
    "\n",
    "**What do we do here?**\n",
    "\n",
    "Change singular $\\Sigma$ as :\n",
    "\n",
    "$$ \\Sigma_{RDA} = \\alpha .\\Sigma_{old} + (1-\\alpha). \\Sigma_{old} $$\n",
    "\n",
    "$$\\text{where, } \\alpha \\text{ is a hyper-parameter as:}\\ \\ \\ \\ \\boxed{0 \\le \\alpha \\le 1} $$"
   ]
  }
 ],
 "metadata": {
  "kernelspec": {
   "display_name": "Python 3",
   "language": "python",
   "name": "python3"
  },
  "language_info": {
   "codemirror_mode": {
    "name": "ipython",
    "version": 3
   },
   "file_extension": ".py",
   "mimetype": "text/x-python",
   "name": "python",
   "nbconvert_exporter": "python",
   "pygments_lexer": "ipython3",
   "version": "3.7.3"
  }
 },
 "nbformat": 4,
 "nbformat_minor": 4
}

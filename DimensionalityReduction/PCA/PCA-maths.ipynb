{
 "cells": [
  {
   "cell_type": "markdown",
   "metadata": {},
   "source": [
    "## <font color=darkturquoise>WAY 1 - AIM</font>\n",
    "We want to find a new set of features that are linear combinations of the original ones.\n",
    "\n",
    "• Given: N data points $x_1,\\cdots ,x_N $in $R^d$ \n",
    "$$\\boldsymbol{ w(\\vec{x}_i) = u^T(\\vec{x}_i – µ)}$$\n",
    "\n",
    "<b>What unit vector $\\vec{u}$ in $R^d$ captures the most variance of the data?</b>"
   ]
  },
  {
   "cell_type": "markdown",
   "metadata": {},
   "source": [
    "- ### The variance of the projected data:\n",
    "\n",
    "$$var(w(\\boldsymbol{x_i})) = \\frac{1}{N}\\ \\sum^{N}_{i=1} w(\\boldsymbol{x_i})w^T(\\boldsymbol{x_i}) = \\frac{1}{N} \\sum^{N}_{i=1} \\boldsymbol{u^T (x_i - \\mu) \\left(u^T(x_i - \\mu)\\right)^T }$$\n",
    "\n",
    "$$=\\ \\frac{1}{N} \\sum^N_{i=1} \\boldsymbol{u^T(x_i - \\mu)(x_i - \\mu)^Tu^T}\\ =\\ u^T\\ \\frac{1}{N} \\left[\\sum^N_{i=1} (x_i - \\mu)(x_i - \\mu) \\right] u$$\n",
    "$$\\ $$\n",
    "$$var(w(\\boldsymbol{x_i}))\\ =\\ \\boldsymbol{u^T \\sum u}$$"
   ]
  },
  {
   "cell_type": "markdown",
   "metadata": {},
   "source": [
    "<b>We now estimate $\\vec{u}$ maximizing the variance:</b>\n",
    "\n",
    "$$\\vec{u}^T\\sum \\vec{u}$$\n",
    "\n",
    "$$\\text{subject to constraints such that}\\ \\ \\ \\vec{u}^T.\\vec{u}\\ =\\ \\|\\vec{u} \\|^2\\ =\\ 1$$\n",
    "\n",
    "because any multiple of $\\vec{u}$ maximizes the objective function.\n",
    "\n",
    "<b>The Lagrangian is:</b>\n",
    "\n",
    "$$J(\\vec{u}; \\lambda) = \\vec{u} \\sum \\vec{u} + \\lambda(1- \\vec{u}^T\\vec{u})$$ \n",
    "$$\\ $$\n",
    "\n",
    "$$\\text{leading to the solution :}$$\n",
    "$$\\ $$\n",
    "$$\\sum \\cdot \\vec{u} = \\lambda \\vec{u} $$\n",
    "$$\\ $$\n",
    "$$\\text{which is an eigenvector of }\\ \\sum \\text{, the one maximizing}\\ J\\ \\text{corresponds to the largest eigenvalue of}\\ \\sum$$"
   ]
  },
  {
   "cell_type": "markdown",
   "metadata": {},
   "source": [
    "## <font color=darkturquoise> WAY 2 - AIM </font>\n",
    "\n",
    "We have to find such values of $C^i$ and $M$ such that our reconstruction error is as <b>minimum</b> as possible."
   ]
  },
  {
   "cell_type": "markdown",
   "metadata": {},
   "source": [
    "- ### Reconstruction error = $\\|X^{\\prime i} - R^i \\|^2_2 $"
   ]
  },
  {
   "cell_type": "markdown",
   "metadata": {},
   "source": [
    "#### <b>Assumption:</b> For simplicity => let's assume L = 1, and number of examples = 1 "
   ]
  },
  {
   "cell_type": "markdown",
   "metadata": {},
   "source": [
    "$X^\\prime$ is the zero mean data."
   ]
  },
  {
   "cell_type": "markdown",
   "metadata": {},
   "source": [
    "$R^i\\  \\text{is }\\ 1\\times N$\n",
    "\n",
    "$X^{\\prime i}\\ \\text{is }\\ 1\\times N$\n",
    "\n",
    "$C^i \\text{is}\\ 1\\times L$\n",
    "\n",
    "$M\\ \\text{is}\\ L\\times N$\n",
    "\n",
    "We don't know $C^i$ as well as $M$!"
   ]
  },
  {
   "cell_type": "markdown",
   "metadata": {},
   "source": [
    "- $R^i = C^i\\cdot M$"
   ]
  },
  {
   "cell_type": "markdown",
   "metadata": {},
   "source": [
    "$C^i => 1\\times 1$\n",
    "\n",
    "$M => 1\\times N$"
   ]
  },
  {
   "cell_type": "markdown",
   "metadata": {},
   "source": [
    "Currently $C^i$ is a scalar. Hence => $C^i\\cdot M\\ =\\ M\\cdot C^i$"
   ]
  },
  {
   "cell_type": "markdown",
   "metadata": {},
   "source": [
    "### 1. Find such $C^i$ that reconstruction error is minimum."
   ]
  },
  {
   "cell_type": "markdown",
   "metadata": {},
   "source": [
    "$$\\text{Let's first simplify}\\ \\left \\| X^{\\prime i} - R^i \\right \\|^2_2 $$\n",
    "$$\\ $$\n",
    "\n",
    "$$\\boldsymbol{X^{\\prime i}_{1\\times N} = \\begin{bmatrix} x^{\\prime i}_0 & x^{\\prime i}_1 & \\cdots &  x^{\\prime i}_{N-1} \\end{bmatrix}}$$\n"
   ]
  },
  {
   "cell_type": "markdown",
   "metadata": {},
   "source": [
    "$$\\boldsymbol{R_i = C_i\\cdot M = C_i\\cdot \\begin{bmatrix} M_0 & M_1 & \\cdots & M_{N-1} \\end{bmatrix}}$$\n"
   ]
  },
  {
   "cell_type": "markdown",
   "metadata": {},
   "source": [
    "$$\\boldsymbol{\\left \\| X^{\\prime i} - R^i \\right \\|_2  =  \\sqrt{\\left(x^{\\prime i}_0 - C^{\\ i} M_0\\right) + \\cdots + \\left(x^{\\prime i}_{n-1} - C^{\\ i} M_{n-1}\\right)}}$$\n",
    "\n",
    "\n",
    "$$\\text{This is non-convex, so:} $$\n"
   ]
  },
  {
   "cell_type": "markdown",
   "metadata": {},
   "source": [
    "$$\\boldsymbol{\\left \\| X^{\\prime i} - R^i \\right \\|^2_2 = \\left(x^{\\prime i}_0 - C^{\\ i} M_0\\right) + \\cdots + \\left(x^{\\prime i}_{n-1} - C^{\\ i} M_{n-1}\\right)}$$\n"
   ]
  },
  {
   "cell_type": "markdown",
   "metadata": {},
   "source": [
    "$$\\text{We know, } \\boldsymbol{\\left\\|X\\right\\|^2_2 = X^T\\cdot X}$$\n"
   ]
  },
  {
   "cell_type": "markdown",
   "metadata": {},
   "source": [
    "$$\\left(X^{\\prime i} - R^i \\right)\\cdot \\left(X^{\\prime i} - R^i\\right)^T $$"
   ]
  },
  {
   "cell_type": "markdown",
   "metadata": {},
   "source": [
    "$$\\boldsymbol{\\left \\| X^{\\prime i} - R^i \\right \\|^2_2} = \\left(X^{\\prime i} - R^i \\right)\\cdot \\left(X^{\\prime i T} - R^{i}\\right)^T $$\n",
    "\n",
    "$$\\text{Let's open the brackets:} $$\n",
    "\n",
    "$$\\boldsymbol{\\left \\| X^{\\prime i} - R^i \\right \\|^2_2} = (X^{\\prime i}\\cdot X^{\\prime iT}) - (X^{\\prime i}\\cdot R^{iT}) - (R^i\\cdot X^{\\prime iT}) + (R^i \\cdot R^{iT})$$\n",
    "\n",
    "$$\\text{Put }\\ C^i\\cdot M\\ \\text{in place of}\\ R^i$$\n",
    "\n",
    "$$\\boldsymbol{\\left \\| X^{\\prime i} - R^i \\right \\|^2_2} = \\|X^{\\prime i}\\|^2_2 + X^{\\prime i}(C^i.M)^T - (C^i.M).X^{\\prime iT} + (C^i.M).(C^i.M)^T $$\n",
    "\n",
    "$$\\text{As }\\ C^i\\ \\text{is a scalar} => C^i = C^{iT}$$\n",
    "\n",
    "$$\\boldsymbol{\\left \\| X^{\\prime i} - R^i \\right \\|^2_2} = \\|X^{\\prime i}\\|^2_2 - X^{\\prime i}.M^T.C^i - C^iMX^{\\prime iT} + {C^i}^2 \\|M\\|^2_2$$"
   ]
  },
  {
   "cell_type": "markdown",
   "metadata": {},
   "source": [
    "$$\\text{Now, }\\ X^{\\prime i}.M^T = M.X^{\\prime iT}\\ \\text{because both X and M are }\\ 1\\times N$$"
   ]
  },
  {
   "cell_type": "markdown",
   "metadata": {},
   "source": [
    "$$\\boldsymbol{\\left \\| X^{\\prime i} - R^i \\right \\|^2_2} = \\|X^{\\prime i}\\|^2_2 - 2C^i.X^{\\prime i}.M^T + \\|M\\|^2_2$$"
   ]
  },
  {
   "cell_type": "markdown",
   "metadata": {},
   "source": [
    "$$\\text{This whole}\\ \\left \\| X^{\\prime i} - R^i \\right \\|^2_2\\ \\text{is a scalar quantity then.}$$"
   ]
  },
  {
   "cell_type": "markdown",
   "metadata": {},
   "source": [
    "And now we gotta find such $C^i$ that above $\\left \\| X^{\\prime i} - R^i \\right \\|^2_2$ is minimum. That means:"
   ]
  },
  {
   "cell_type": "markdown",
   "metadata": {},
   "source": [
    "$$\\frac{\\partial f(C^i) }{\\partial C^i} = 0$$"
   ]
  },
  {
   "cell_type": "markdown",
   "metadata": {},
   "source": [
    "$$\\frac{\\partial }{\\partial C^i} \\left(\\|X^{\\prime i}\\|^2_2 - 2C^i.X^{\\prime i}.M^T + \\|M\\|^2_2 \\right)= 0$$"
   ]
  },
  {
   "cell_type": "markdown",
   "metadata": {},
   "source": [
    "$$\\text{Results in:}\\ \\ \\ \\ C^i = \\frac{X^{\\prime i}.M^T}{\\|M\\|^2_2}$$"
   ]
  },
  {
   "cell_type": "markdown",
   "metadata": {},
   "source": [
    "$$\\text{M is the matrix of orthonormal vectors. Hence:}\\ \\ \\ \\ \\|M\\|^2_2 = 1 \\ \\text{and}$$"
   ]
  },
  {
   "cell_type": "markdown",
   "metadata": {},
   "source": [
    "$$C^i = {X^{\\prime i}.M^T}$$"
   ]
  },
  {
   "cell_type": "markdown",
   "metadata": {},
   "source": [
    "### 2. Find such $M$ that reconstruction error is minimum."
   ]
  },
  {
   "cell_type": "markdown",
   "metadata": {},
   "source": [
    "$$X^\\prime = {\\begin{bmatrix} \\leftarrow & X^\\prime_0 & \\rightarrow \\\\ \\leftarrow & \\vdots & \\rightarrow \\\\ \\leftarrow & X^\\prime_{p-1} & \\rightarrow \\end{bmatrix}}_{p\\times N}$$\n",
    "\n",
    "$$\\ $$\n",
    "\n",
    "$$R = {\\begin{bmatrix} \\leftarrow & R_0 & \\rightarrow \\\\ \\leftarrow & \\vdots & \\rightarrow \\\\ \\leftarrow & R_{p-1} & \\rightarrow \\end{bmatrix}}_{p\\times N}$$\n",
    "\n",
    "$$\\ $$\n",
    "\n",
    "$$\\text{and,}\\ \\ \\ \\ \\left(X^{\\prime i} - R^i \\right)\\cdot \\left(X^{\\prime i T} - R^{iT}\\right)\\ =\\ {\\begin{bmatrix} \\leftarrow & (X^\\prime_0 - R_0) & \\rightarrow \\\\ \\leftarrow & \\vdots & \\rightarrow \\\\ \\leftarrow & (X^\\prime_{p-1} - R_{p-1}) & \\rightarrow \\end{bmatrix}}_{p\\times N}{\\begin{bmatrix} \\uparrow & \\ & \\uparrow \\\\ (X^\\prime_0 - R_0) & \\cdots & (X^\\prime_{p-1} - R_{p-1}) \\\\ \\downarrow & \\ & \\downarrow \\end{bmatrix}}_{N\\times p}$$"
   ]
  },
  {
   "cell_type": "markdown",
   "metadata": {},
   "source": [
    "$$\\textbf{Tr}\\left[\\left(X^{\\prime i} - R^i \\right)\\cdot \\left(X^{\\prime i T} - R^{i}\\right)^T\\right] =  \\sum^{p-1}_{i=0} \\left \\| X^{\\prime i} - R^i \\right \\|^2_2$$\n",
    "$$\\ $$\n",
    "\n",
    "$$\\textbf{Average Squared Reconstruction Error =}\\ \\frac{1}{p} \\sum^{p-1}_{i=0} \\left \\| X^{\\prime i} - R^i \\right \\|^2_2 $$"
   ]
  },
  {
   "cell_type": "markdown",
   "metadata": {},
   "source": [
    "$$\\textbf{ASRE}\\ =\\ \\frac{1}{p} \\cdot \\textbf{Tr}\\left[\\left(X^{\\prime i} - R^i \\right)\\cdot \\left(X^{\\prime i T} - R^{i}\\right)^T\\right] $$"
   ]
  },
  {
   "cell_type": "markdown",
   "metadata": {},
   "source": [
    "$$\\text{Opening the brackets:}$$\n",
    "\n",
    "$$=\\ \\frac{1}{p} \\cdot \\textbf{Tr} \\left[ X^\\prime X^{\\prime T} - X^{\\prime}.R^T - R.X^{\\prime} + R.R^T \\right]$$"
   ]
  },
  {
   "cell_type": "markdown",
   "metadata": {},
   "source": [
    "Trace of $X^\\prime X^{\\prime T}$ is going to be: $$\\sum^{p-1}_{i=1}\\|X^{\\prime i}\\|^2_2$$ \n",
    "and trace of $X^\\prime R^T$ will be:"
   ]
  },
  {
   "cell_type": "markdown",
   "metadata": {},
   "source": [
    "$$R\\ =\\ \\begin{bmatrix} \\leftarrow & R^0 & \\rightarrow \\\\ \\ & \\vdots & \\ \\\\ \\leftarrow & R^{p-1} & \\rightarrow \\end{bmatrix} \\ \\ \\ \\ \\ \\ \\ C = \\begin{bmatrix} C^0 \\\\ \\vdots \\\\ C^{p-1} \\end{bmatrix}\\ \\ \\ \\ \\ \\ \\ M\\ =\\ \\begin{bmatrix} M^0 & \\cdots & M^{n-1}\\end{bmatrix}$$"
   ]
  },
  {
   "cell_type": "markdown",
   "metadata": {},
   "source": [
    "$$R\\ =\\ C.M \\ =\\ X^\\prime M^T M\\ \\ \\ \\ \\ \\\\ \\\\ R^T\\ =\\ M^T.C^T\\ =\\ M^T.M.X^{\\prime T}$$"
   ]
  },
  {
   "cell_type": "markdown",
   "metadata": {},
   "source": [
    "$$\\text{resulting in }\\ \\textbf{ASRE}\\ =\\ \\frac{1}{p} . \\left((\\sum^{p-1}_{i=1}\\|X^{\\prime i}\\|^2_2 )- Tr(X^\\prime M^T C^T) - Tr(CMX^{\\prime T}) + Tr((CM).(M^T C^T)) \\right)$$"
   ]
  },
  {
   "cell_type": "markdown",
   "metadata": {},
   "source": [
    "It can be observed that trace of $X^\\prime M^T C^T$ and $CMX^{\\prime T}$ will be same.\n",
    "\n"
   ]
  },
  {
   "cell_type": "markdown",
   "metadata": {},
   "source": [
    "$$\\text{After further solving:}\\ \\\\ \\textbf{ASRE}\\ =\\ \\frac{1}{p} \\left[\\sum^{p-1}_{i=0} \\|X^{\\prime i} \\|^2_2\\ -\\ \\left( (M.X^{\\prime T}).(X^\\prime. M^T)\\right) \\right]$$"
   ]
  },
  {
   "cell_type": "markdown",
   "metadata": {},
   "source": [
    "$$\\text{Now for minimizing ASRE:}\\ \\ \\|X^{\\prime i}\\|^2_2 \\ \\text{is constant}$$\n",
    "\n",
    "$$\\text{Hence maximize:}\\ \\frac{(M.X^{\\prime T}).(X^\\prime. M^T)}{p}$$\n",
    "\n",
    "$$\\text{opening brackets:}\\ \\frac{X^{\\prime T}.X^\\prime}{p} \\ \\ \\text{is covariance matrix} $$\n",
    "\n",
    "$$\\text{ So, finally, maximizing :}\\ \\ \\ \\left(M^T. \\sum . M \\right) \\ \\ \\text{will result in highest eigen values of covariance matrix}$$"
   ]
  },
  {
   "cell_type": "markdown",
   "metadata": {},
   "source": [
    "All this calculation for $C^i$'s dimension = 1 i.e $\\textbf{L = 1}$. What if we want more dimensions in our reduced data?\n",
    "\n",
    "The dimensions of $X^{\\prime}$ are $p\\times N$ and dimensions of $M^T$ are $N\\times L$ where $\\textbf{L}$ is more than 1.\n",
    "\n",
    "Hence :\n",
    "\n",
    "$$C^i_{p\\times L} = X^{\\prime}_{p\\times N} . M^T_{N\\times L}$$"
   ]
  }
 ],
 "metadata": {
  "kernelspec": {
   "display_name": "Python 3",
   "language": "python",
   "name": "python3"
  },
  "language_info": {
   "codemirror_mode": {
    "name": "ipython",
    "version": 3
   },
   "file_extension": ".py",
   "mimetype": "text/x-python",
   "name": "python",
   "nbconvert_exporter": "python",
   "pygments_lexer": "ipython3",
   "version": "3.7.3"
  }
 },
 "nbformat": 4,
 "nbformat_minor": 4
}

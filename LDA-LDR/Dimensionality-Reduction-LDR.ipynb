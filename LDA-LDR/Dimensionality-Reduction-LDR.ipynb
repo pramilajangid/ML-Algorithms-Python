{
 "cells": [
  {
   "cell_type": "markdown",
   "metadata": {},
   "source": [
    "## <font color=008080>Let's try to understand what is going on in our algorithm :</font>"
   ]
  },
  {
   "cell_type": "markdown",
   "metadata": {},
   "source": [
    "## AIM\n",
    "\n",
    "The aim of LDR is to provide us a vector, to project our data onto, such that BETWEEN GROUP variance should increase for each class and WITHIN GROUP variance should decrease."
   ]
  },
  {
   "cell_type": "code",
   "execution_count": null,
   "metadata": {},
   "outputs": [],
   "source": [
    "                  "
   ]
  },
  {
   "cell_type": "markdown",
   "metadata": {},
   "source": [
    "## We know,\n",
    "Our Linear discriminant function looks like:\n",
    "\n",
    "$$ \\log_e{\\left(\\frac{\\text{P(class='1'|X)}}{\\text{P(class='0'|X)}}\\right)}\\ =\\ \\theta_\\textbf{0} + \\boldsymbol{\\theta^T.X}$$"
   ]
  },
  {
   "cell_type": "markdown",
   "metadata": {},
   "source": [
    "### Q. Why did we require LDA as dimensionality reduction technique when we had PCA?"
   ]
  }
 ],
 "metadata": {
  "kernelspec": {
   "display_name": "Python 3",
   "language": "python",
   "name": "python3"
  },
  "language_info": {
   "codemirror_mode": {
    "name": "ipython",
    "version": 3
   },
   "file_extension": ".py",
   "mimetype": "text/x-python",
   "name": "python",
   "nbconvert_exporter": "python",
   "pygments_lexer": "ipython3",
   "version": "3.7.3"
  }
 },
 "nbformat": 4,
 "nbformat_minor": 4
}

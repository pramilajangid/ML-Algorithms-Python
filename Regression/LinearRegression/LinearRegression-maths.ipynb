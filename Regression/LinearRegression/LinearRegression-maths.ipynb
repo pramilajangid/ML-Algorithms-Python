{
 "cells": [
  {
   "cell_type": "markdown",
   "metadata": {},
   "source": [
    "**Uptill now:** We have understood that how regression works and how to formulate it into mathematical equation. Let's just revise a little:\n",
    "\n",
    "$$ \\textbf{Y}\\ =\\ f(x)\\ +\\ \\epsilon $$\n",
    "\n",
    "$$\\text{where, } \\epsilon \\text{ is gaussian noise and }f(x)\\text{ is the original function whose detail meaning is explained earlier.}\\\\ \\text{ The best estimate of }f(x)\\text{ is } \\hat{f}{(x)}$$\n",
    "\n",
    "Now if $\\hat{f}(x)$ is degree one polynomial, then we call the process of defining the trend pattern and predicting for future as **Linear Regression**. *Let's dig deeper into mathematics of defining the trend pattern and predicting for future*."
   ]
  },
  {
   "cell_type": "markdown",
   "metadata": {},
   "source": [
    "$$\\text{Let:}\\ \\ \\ \\ {f}(x)\\ =\\ \\textbf{y}\\ =\\ \\theta_1 . x\\ +\\ \\theta_0$$\n",
    "\n",
    "$$\\text{We need to find best estimates of } \\theta \\text{s, and find the } \\hat{\\textbf{y}}\\text{ (= }\\hat{f}(x))$$\n",
    "\n",
    "$$\\text{In other words: } \\text{Find line }\\textbf{y}\\text{ that best fits the data }\\textbf{Y}$$"
   ]
  },
  {
   "cell_type": "markdown",
   "metadata": {},
   "source": [
    "### Formulation of likelihood function"
   ]
  },
  {
   "cell_type": "markdown",
   "metadata": {},
   "source": [
    "<b>Let's say we have a data as:</b>\n",
    "\n",
    "- marks of student in a particular examination as a feature vector X\n",
    "\n",
    "- student's salary on the basis of those marks as Y\n",
    "\n",
    "\n",
    "$$ \\text{P(salary = }\\hat{y}_i \\text{ | marks = }x_i \\text{)} = \\frac{1}{\\sqrt{2 \\pi}}. e^ {- \\frac{(\\hat{y}_i - \\hat{\\mu_i})^2}{2 \\sigma^2}}  $$\n",
    "\n",
    "$$\\text{where, }\\ \\ \\ \\ \\hat{\\mu}_i = \\hat{f}(x_i)\\ =\\ \\hat{\\theta}_0\\ +\\ \\hat{\\theta}_1 x_i $$\n",
    "\n",
    "**Assumption** : Data is independent and identically distributed. Hence :\n",
    "\n",
    "$$ \\text{P}\\left( (\\text{salary = }\\hat{y}_1 | x_1 ) \\cap (\\text{salary = }\\hat{y}_2 | x_2 ) \\cap \\cdots \\cap (\\text{salary = }\\hat{y}_{N_{train}} | x_{N_{train}} )\\right) \\ =\\ \\prod^{N_{train}}_{i=1} \\ P( \\text{salary = } \\hat{y}_i | \\text{marks = }x_i )$$\n",
    "\n",
    "$$=\\ \\prod^{N_{train}}_{i=1} \\left( \\frac{1}{\\sqrt{2 \\pi}}. e^ {- \\frac{(\\hat{y}_i - (\\hat{\\theta}_0\\ +\\ \\hat{\\theta}_1 x_i))^2}{2 \\sigma^2}} \\right)\\ =\\ \\textbf{L}(\\hat{\\theta}_1, \\hat{\\theta}_0) $$\n",
    "\n",
    "$$\\log_e \\textbf{L}(\\hat{\\theta}_1, \\hat{\\theta}_0)\\ =\\ \\sum^{N_{train}}_{i=1} \\log_e \\left( \\frac{1}{\\sqrt{2 \\pi}}. e^ {- \\frac{(\\hat{y}_i - (\\hat{\\theta}_0\\ +\\ \\hat{\\theta}_1 x_i))^2}{2 \\sigma^2}} \\right) $$"
   ]
  },
  {
   "cell_type": "markdown",
   "metadata": {},
   "source": [
    "### Loss Function"
   ]
  },
  {
   "cell_type": "markdown",
   "metadata": {},
   "source": [
    "**Optimization problem** : We need to maximize $\\left(\\log_e \\textbf{L}(\\hat{\\theta}_1, \\hat{\\theta}_0)\\right)$ $\\equiv$ minimize $ \\left(- \\log_e \\textbf{L}(\\hat{\\theta}_1, \\hat{\\theta}_0)\\right)$ over $\\hat{\\theta}_0$ and $\\hat{\\theta}_1$.\n",
    "Minimize $\\left(\\log_e \\textbf{L}(\\hat{\\theta}_1, \\hat{\\theta}_0)\\right)$ means we need to minimize $\\frac{(\\hat{y}_i - (\\hat{\\theta}_0\\ +\\ \\hat{\\theta}_1 x_i))^2}{2 \\sigma^2}$ for each $i$. \n",
    "\n",
    "Hence our **final loss function for Linear Regression** = \n",
    "$$ \\sum^{N_{train}}_{i=1} \\frac{(\\hat{y}_i - (\\hat{\\theta}_0\\ +\\ \\hat{\\theta}_1 x_i))^2}{2 \\sigma^2} $$\n",
    "\n",
    "$$ a.k.a.\\ \\ \\ \\textbf{Mean Squared Error} $$\n",
    "\n",
    "Hence **minimize** this **loss function** with respect to $\\hat{\\theta}_0$ and $\\hat{\\theta}_1$.\n",
    "\n",
    "Many suitable algorithm can be applied to do such task but in code, I have done minimization using **Gradient Descent**.\n",
    " "
   ]
  }
 ],
 "metadata": {
  "kernelspec": {
   "display_name": "Python 3",
   "language": "python",
   "name": "python3"
  },
  "language_info": {
   "codemirror_mode": {
    "name": "ipython",
    "version": 3
   },
   "file_extension": ".py",
   "mimetype": "text/x-python",
   "name": "python",
   "nbconvert_exporter": "python",
   "pygments_lexer": "ipython3",
   "version": "3.7.3"
  }
 },
 "nbformat": 4,
 "nbformat_minor": 4
}
